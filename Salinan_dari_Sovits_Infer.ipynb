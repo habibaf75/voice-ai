{
  "cells": [
    {
      "cell_type": "markdown",
      "metadata": {
        "id": "view-in-github",
        "colab_type": "text"
      },
      "source": [
        "<a href=\"https://colab.research.google.com/github/habibaf75/voice-ai/blob/main/Salinan_dari_Sovits_Infer.ipynb\" target=\"_parent\"><img src=\"https://colab.research.google.com/assets/colab-badge.svg\" alt=\"Open In Colab\"/></a>"
      ]
    },
    {
      "cell_type": "code",
      "execution_count": null,
      "metadata": {
        "id": "0gQcIZ8RsOkn"
      },
      "outputs": [],
      "source": [
        "!nvidia-smi"
      ]
    },
    {
      "cell_type": "code",
      "source": [
        "!apt install git-lfs\n",
        "!git lfs install\n",
        "!git clone https://huggingface.co/spaces/sayashi/sovits-models\n",
        "%cd sovits-models"
      ],
      "metadata": {
        "id": "qGwRHGiYRSGv"
      },
      "execution_count": null,
      "outputs": []
    },
    {
      "cell_type": "code",
      "source": [
        "!wget -nc -P models/rudolf https://huggingface.co/spaces/sayashi/sovits-rudolf/resolve/main/models/rudolf/rudolf.pth\n",
        "!wget -nc -P models/rudolf https://huggingface.co/spaces/sayashi/sovits-rudolf/resolve/main/models/rudolf/config.json\n",
        "!wget -nc -P models/rudolf https://huggingface.co/spaces/sayashi/sovits-rudolf/resolve/main/models/rudolf/cover.png\n",
        "\n",
        "!wget -nc -P models/teio https://huggingface.co/spaces/sayashi/sovits-teio/resolve/main/models/teio/teio.pth\n",
        "!wget -nc -P models/teio https://huggingface.co/spaces/sayashi/sovits-teio/resolve/main/models/teio/config.json\n",
        "!wget -nc -P models/teio https://huggingface.co/spaces/sayashi/sovits-teio/resolve/main/models/teio/cover.png\n",
        "\n",
        "!wget -nc -P models/tannhauser https://huggingface.co/spaces/sayashi/sovits-tannhauser/resolve/main/models/tannhauser/tannhauser.pth\n",
        "!wget -nc -P models/tannhauser https://huggingface.co/spaces/sayashi/sovits-tannhauser/resolve/main/models/tannhauser/config.json\n",
        "!wget -nc -P models/tannhauser https://huggingface.co/spaces/sayashi/sovits-tannhauser/resolve/main/models/tannhauser/cover.png\n",
        "\n",
        "!wget -nc -P models/goldship https://huggingface.co/spaces/sayashi/sovits-goldship/resolve/main/models/goldship/goldship.pth\n",
        "!wget -nc -P models/goldship https://huggingface.co/spaces/sayashi/sovits-goldship/resolve/main/models/goldship/config.json\n",
        "!wget -nc -P models/goldship https://huggingface.co/spaces/sayashi/sovits-goldship/resolve/main/models/goldship/cover.png"
      ],
      "metadata": {
        "id": "_-5ypsF4fwh9"
      },
      "execution_count": null,
      "outputs": []
    },
    {
      "cell_type": "code",
      "source": [
        "!python -m pip install -U pip wheel\n",
        "%pip install -U ipython "
      ],
      "metadata": {
        "id": "XPyIXNnORUz6"
      },
      "execution_count": null,
      "outputs": []
    },
    {
      "cell_type": "code",
      "source": [
        "!pip install -r requirements.txt"
      ],
      "metadata": {
        "id": "TREXn0H9RWWV"
      },
      "execution_count": null,
      "outputs": []
    },
    {
      "cell_type": "code",
      "source": [
        "#@title Upload Audio(./raw)\n",
        "from google.colab import files\n",
        "import shutil\n",
        "import os\n",
        "if not os.path.exists(\"raw\"):\n",
        "  os.makedirs(\"raw\")\n",
        "uploaded = files.upload()\n",
        "for f in uploaded.keys():\n",
        "  shutil.move(f, f\"raw/{f}\")"
      ],
      "metadata": {
        "id": "QswfaEVxfh4b"
      },
      "execution_count": null,
      "outputs": []
    },
    {
      "cell_type": "code",
      "source": [
        "#@title Run\n",
        "!python app-slice.py --device cuda --share --colab"
      ],
      "metadata": {
        "id": "5e7i3P1ySSbW"
      },
      "execution_count": null,
      "outputs": []
    }
  ],
  "metadata": {
    "accelerator": "GPU",
    "colab": {
      "provenance": [],
      "include_colab_link": true
    },
    "gpuClass": "standard",
    "kernelspec": {
      "display_name": "Python 3",
      "name": "python3"
    },
    "language_info": {
      "name": "python"
    }
  },
  "nbformat": 4,
  "nbformat_minor": 0
}